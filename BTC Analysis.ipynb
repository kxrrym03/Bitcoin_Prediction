{
 "cells": [
  {
   "cell_type": "code",
   "execution_count": 7,
   "id": "e4e4cdac-9d4f-4c88-9c8b-256a228aa81a",
   "metadata": {},
   "outputs": [
    {
     "name": "stdout",
     "output_type": "stream",
     "text": [
      "(2747, 7)\n"
     ]
    },
    {
     "data": {
      "text/html": [
       "<div>\n",
       "<style scoped>\n",
       "    .dataframe tbody tr th:only-of-type {\n",
       "        vertical-align: middle;\n",
       "    }\n",
       "\n",
       "    .dataframe tbody tr th {\n",
       "        vertical-align: top;\n",
       "    }\n",
       "\n",
       "    .dataframe thead th {\n",
       "        text-align: right;\n",
       "    }\n",
       "</style>\n",
       "<table border=\"1\" class=\"dataframe\">\n",
       "  <thead>\n",
       "    <tr style=\"text-align: right;\">\n",
       "      <th></th>\n",
       "      <th>Date</th>\n",
       "      <th>Open</th>\n",
       "      <th>High</th>\n",
       "      <th>Low</th>\n",
       "      <th>Close</th>\n",
       "      <th>Adj Close</th>\n",
       "      <th>Volume</th>\n",
       "    </tr>\n",
       "  </thead>\n",
       "  <tbody>\n",
       "    <tr>\n",
       "      <th>0</th>\n",
       "      <td>9/17/2014</td>\n",
       "      <td>465.864014</td>\n",
       "      <td>468.174011</td>\n",
       "      <td>452.421997</td>\n",
       "      <td>457.334015</td>\n",
       "      <td>457.334015</td>\n",
       "      <td>21056800.0</td>\n",
       "    </tr>\n",
       "    <tr>\n",
       "      <th>1</th>\n",
       "      <td>9/18/2014</td>\n",
       "      <td>456.859985</td>\n",
       "      <td>456.859985</td>\n",
       "      <td>413.104004</td>\n",
       "      <td>424.440002</td>\n",
       "      <td>424.440002</td>\n",
       "      <td>34483200.0</td>\n",
       "    </tr>\n",
       "    <tr>\n",
       "      <th>2</th>\n",
       "      <td>9/19/2014</td>\n",
       "      <td>424.102997</td>\n",
       "      <td>427.834991</td>\n",
       "      <td>384.532013</td>\n",
       "      <td>394.795990</td>\n",
       "      <td>394.795990</td>\n",
       "      <td>37919700.0</td>\n",
       "    </tr>\n",
       "    <tr>\n",
       "      <th>3</th>\n",
       "      <td>9/20/2014</td>\n",
       "      <td>394.673004</td>\n",
       "      <td>423.295990</td>\n",
       "      <td>389.882996</td>\n",
       "      <td>408.903992</td>\n",
       "      <td>408.903992</td>\n",
       "      <td>36863600.0</td>\n",
       "    </tr>\n",
       "    <tr>\n",
       "      <th>4</th>\n",
       "      <td>9/21/2014</td>\n",
       "      <td>408.084991</td>\n",
       "      <td>412.425995</td>\n",
       "      <td>393.181000</td>\n",
       "      <td>398.821014</td>\n",
       "      <td>398.821014</td>\n",
       "      <td>26580100.0</td>\n",
       "    </tr>\n",
       "  </tbody>\n",
       "</table>\n",
       "</div>"
      ],
      "text/plain": [
       "        Date        Open        High         Low       Close   Adj Close  \\\n",
       "0  9/17/2014  465.864014  468.174011  452.421997  457.334015  457.334015   \n",
       "1  9/18/2014  456.859985  456.859985  413.104004  424.440002  424.440002   \n",
       "2  9/19/2014  424.102997  427.834991  384.532013  394.795990  394.795990   \n",
       "3  9/20/2014  394.673004  423.295990  389.882996  408.903992  408.903992   \n",
       "4  9/21/2014  408.084991  412.425995  393.181000  398.821014  398.821014   \n",
       "\n",
       "       Volume  \n",
       "0  21056800.0  \n",
       "1  34483200.0  \n",
       "2  37919700.0  \n",
       "3  36863600.0  \n",
       "4  26580100.0  "
      ]
     },
     "execution_count": 7,
     "metadata": {},
     "output_type": "execute_result"
    }
   ],
   "source": [
    "import numpy as np\n",
    "import pandas as pd\n",
    "import matplotlib.pyplot as plt\n",
    "from sklearn.model_selection import train_test_split\n",
    "from sklearn.linear_model import LinearRegression\n",
    "from sklearn.metrics import mean_squared_error, mean_absolute_error,r2_score\n",
    "import warnings\n",
    "warnings.filterwarnings('ignore')\n",
    "import seaborn as sns\n",
    "from sklearn.preprocessing import StandardScaler\n",
    "\n",
    "data = pd.read_csv(r'C:\\Users\\Kerry\\BTC-USD(1).csv')\n",
    "print(data.shape)\n",
    "data.head()"
   ]
  },
  {
   "cell_type": "code",
   "execution_count": 8,
   "id": "66cdbd80-3282-446e-9801-7bb0b84895a8",
   "metadata": {},
   "outputs": [
    {
     "name": "stdout",
     "output_type": "stream",
     "text": [
      "<class 'pandas.core.frame.DataFrame'>\n",
      "RangeIndex: 2747 entries, 0 to 2746\n",
      "Data columns (total 7 columns):\n",
      " #   Column     Non-Null Count  Dtype  \n",
      "---  ------     --------------  -----  \n",
      " 0   Date       2747 non-null   object \n",
      " 1   Open       2747 non-null   float64\n",
      " 2   High       2747 non-null   float64\n",
      " 3   Low        2747 non-null   float64\n",
      " 4   Close      2747 non-null   float64\n",
      " 5   Adj Close  2747 non-null   float64\n",
      " 6   Volume     2747 non-null   float64\n",
      "dtypes: float64(6), object(1)\n",
      "memory usage: 150.4+ KB\n"
     ]
    }
   ],
   "source": [
    "data.info()"
   ]
  },
  {
   "cell_type": "code",
   "execution_count": 9,
   "id": "6cc7f398-d7dd-4368-a81a-0efdc0ec2b22",
   "metadata": {},
   "outputs": [
    {
     "data": {
      "text/plain": [
       "Index(['Date', 'Open', 'High', 'Low', 'Close', 'Adj Close', 'Volume'], dtype='object')"
      ]
     },
     "execution_count": 9,
     "metadata": {},
     "output_type": "execute_result"
    }
   ],
   "source": [
    "data.columns"
   ]
  },
  {
   "cell_type": "code",
   "execution_count": 10,
   "id": "b7142fde-3329-4aa1-a05d-2571e38f8bbc",
   "metadata": {},
   "outputs": [
    {
     "data": {
      "text/plain": [
       "0"
      ]
     },
     "execution_count": 10,
     "metadata": {},
     "output_type": "execute_result"
    }
   ],
   "source": [
    "data.duplicated().sum()"
   ]
  },
  {
   "cell_type": "code",
   "execution_count": 12,
   "id": "257237e8-e2f9-4512-b82b-fb98e34bdcbd",
   "metadata": {},
   "outputs": [
    {
     "data": {
      "text/plain": [
       "Date         0\n",
       "Open         0\n",
       "High         0\n",
       "Low          0\n",
       "Close        0\n",
       "Adj Close    0\n",
       "Volume       0\n",
       "dtype: int64"
      ]
     },
     "execution_count": 12,
     "metadata": {},
     "output_type": "execute_result"
    }
   ],
   "source": [
    "data.isnull().sum()"
   ]
  },
  {
   "cell_type": "code",
   "execution_count": 13,
   "id": "40da1259-b5ca-4b59-ae2f-f9028780c4ac",
   "metadata": {},
   "outputs": [
    {
     "data": {
      "text/html": [
       "<div>\n",
       "<style scoped>\n",
       "    .dataframe tbody tr th:only-of-type {\n",
       "        vertical-align: middle;\n",
       "    }\n",
       "\n",
       "    .dataframe tbody tr th {\n",
       "        vertical-align: top;\n",
       "    }\n",
       "\n",
       "    .dataframe thead th {\n",
       "        text-align: right;\n",
       "    }\n",
       "</style>\n",
       "<table border=\"1\" class=\"dataframe\">\n",
       "  <thead>\n",
       "    <tr style=\"text-align: right;\">\n",
       "      <th></th>\n",
       "      <th>Open</th>\n",
       "      <th>High</th>\n",
       "      <th>Low</th>\n",
       "      <th>Close</th>\n",
       "      <th>Adj Close</th>\n",
       "      <th>Volume</th>\n",
       "    </tr>\n",
       "  </thead>\n",
       "  <tbody>\n",
       "    <tr>\n",
       "      <th>count</th>\n",
       "      <td>2747.000000</td>\n",
       "      <td>2747.000000</td>\n",
       "      <td>2747.000000</td>\n",
       "      <td>2747.000000</td>\n",
       "      <td>2747.000000</td>\n",
       "      <td>2.747000e+03</td>\n",
       "    </tr>\n",
       "    <tr>\n",
       "      <th>mean</th>\n",
       "      <td>11668.600272</td>\n",
       "      <td>11981.034949</td>\n",
       "      <td>11325.596907</td>\n",
       "      <td>11682.892099</td>\n",
       "      <td>11682.892099</td>\n",
       "      <td>1.484704e+10</td>\n",
       "    </tr>\n",
       "    <tr>\n",
       "      <th>std</th>\n",
       "      <td>16323.683853</td>\n",
       "      <td>16759.568658</td>\n",
       "      <td>15825.584507</td>\n",
       "      <td>16330.191582</td>\n",
       "      <td>16330.191582</td>\n",
       "      <td>1.994819e+10</td>\n",
       "    </tr>\n",
       "    <tr>\n",
       "      <th>min</th>\n",
       "      <td>176.897003</td>\n",
       "      <td>211.731003</td>\n",
       "      <td>171.509995</td>\n",
       "      <td>178.102997</td>\n",
       "      <td>178.102997</td>\n",
       "      <td>5.914570e+06</td>\n",
       "    </tr>\n",
       "    <tr>\n",
       "      <th>25%</th>\n",
       "      <td>609.122009</td>\n",
       "      <td>611.894501</td>\n",
       "      <td>606.309479</td>\n",
       "      <td>609.234009</td>\n",
       "      <td>609.234009</td>\n",
       "      <td>8.161285e+07</td>\n",
       "    </tr>\n",
       "    <tr>\n",
       "      <th>50%</th>\n",
       "      <td>6371.850098</td>\n",
       "      <td>6500.870117</td>\n",
       "      <td>6285.629883</td>\n",
       "      <td>6376.709961</td>\n",
       "      <td>6376.709961</td>\n",
       "      <td>5.227550e+09</td>\n",
       "    </tr>\n",
       "    <tr>\n",
       "      <th>75%</th>\n",
       "      <td>10728.271485</td>\n",
       "      <td>10992.468750</td>\n",
       "      <td>10412.890135</td>\n",
       "      <td>10755.395020</td>\n",
       "      <td>10755.395020</td>\n",
       "      <td>2.500517e+10</td>\n",
       "    </tr>\n",
       "    <tr>\n",
       "      <th>max</th>\n",
       "      <td>67549.734380</td>\n",
       "      <td>68789.625000</td>\n",
       "      <td>66382.062500</td>\n",
       "      <td>67566.828130</td>\n",
       "      <td>67566.828130</td>\n",
       "      <td>3.509680e+11</td>\n",
       "    </tr>\n",
       "  </tbody>\n",
       "</table>\n",
       "</div>"
      ],
      "text/plain": [
       "               Open          High           Low         Close     Adj Close  \\\n",
       "count   2747.000000   2747.000000   2747.000000   2747.000000   2747.000000   \n",
       "mean   11668.600272  11981.034949  11325.596907  11682.892099  11682.892099   \n",
       "std    16323.683853  16759.568658  15825.584507  16330.191582  16330.191582   \n",
       "min      176.897003    211.731003    171.509995    178.102997    178.102997   \n",
       "25%      609.122009    611.894501    606.309479    609.234009    609.234009   \n",
       "50%     6371.850098   6500.870117   6285.629883   6376.709961   6376.709961   \n",
       "75%    10728.271485  10992.468750  10412.890135  10755.395020  10755.395020   \n",
       "max    67549.734380  68789.625000  66382.062500  67566.828130  67566.828130   \n",
       "\n",
       "             Volume  \n",
       "count  2.747000e+03  \n",
       "mean   1.484704e+10  \n",
       "std    1.994819e+10  \n",
       "min    5.914570e+06  \n",
       "25%    8.161285e+07  \n",
       "50%    5.227550e+09  \n",
       "75%    2.500517e+10  \n",
       "max    3.509680e+11  "
      ]
     },
     "execution_count": 13,
     "metadata": {},
     "output_type": "execute_result"
    }
   ],
   "source": [
    "data.describe()"
   ]
  },
  {
   "cell_type": "code",
   "execution_count": null,
   "id": "a130aeb4-a6be-4976-bb55-727332ba5a82",
   "metadata": {},
   "outputs": [],
   "source": []
  }
 ],
 "metadata": {
  "kernelspec": {
   "display_name": "Python 3 (ipykernel)",
   "language": "python",
   "name": "python3"
  },
  "language_info": {
   "codemirror_mode": {
    "name": "ipython",
    "version": 3
   },
   "file_extension": ".py",
   "mimetype": "text/x-python",
   "name": "python",
   "nbconvert_exporter": "python",
   "pygments_lexer": "ipython3",
   "version": "3.12.7"
  }
 },
 "nbformat": 4,
 "nbformat_minor": 5
}
